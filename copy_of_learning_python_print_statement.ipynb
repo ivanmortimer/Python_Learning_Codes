{
  "nbformat": 4,
  "nbformat_minor": 0,
  "metadata": {
    "colab": {
      "provenance": [],
      "authorship_tag": "ABX9TyOrT/Ut16RRi3IilTRpTLzK",
      "include_colab_link": true
    },
    "kernelspec": {
      "name": "python3",
      "display_name": "Python 3"
    },
    "language_info": {
      "name": "python"
    }
  },
  "cells": [
    {
      "cell_type": "markdown",
      "metadata": {
        "id": "view-in-github",
        "colab_type": "text"
      },
      "source": [
        "<a href=\"https://colab.research.google.com/github/ivanmortimer/Python_Learning_Codes/blob/main/copy_of_learning_python_print_statement.ipynb\" target=\"_parent\"><img src=\"https://colab.research.google.com/assets/colab-badge.svg\" alt=\"Open In Colab\"/></a>"
      ]
    },
    {
      "cell_type": "code",
      "execution_count": null,
      "metadata": {
        "colab": {
          "base_uri": "https://localhost:8080/"
        },
        "id": "6HyGKKBiHQgw",
        "outputId": "53cc1552-9f71-4abe-8a90-fbff3134552d"
      },
      "outputs": [
        {
          "output_type": "stream",
          "name": "stdout",
          "text": [
            "12345 \n",
            "\n",
            "valor 12345\n",
            "valor = 12345\n",
            "valor = 12345\n",
            "\n",
            "valor 12345\n",
            "valor = 12345\n",
            "valor = 12345\n"
          ]
        }
      ],
      "source": [
        "print(12345, '\\n')\n",
        "\n",
        "print('valor', 12345)\n",
        "print('valor = {}'.format(12345))\n",
        "print(f'valor = {12345}\\n')\n",
        "\n",
        "print(\"valor\", 12345)\n",
        "print(\"valor = {}\".format(12345))\n",
        "print(f\"valor = {12345}\")\n",
        "\n",
        "\n"
      ]
    }
  ]
}